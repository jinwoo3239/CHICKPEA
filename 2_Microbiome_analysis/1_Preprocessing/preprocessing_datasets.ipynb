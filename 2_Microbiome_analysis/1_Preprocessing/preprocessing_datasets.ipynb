{
 "cells": [
  {
   "cell_type": "code",
   "execution_count": 1,
   "metadata": {},
   "outputs": [],
   "source": [
    "import numpy as np\n",
    "import pandas as pd\n",
    "import matplotlib.pyplot as plt\n",
    "import seaborn as sns\n",
    "\n",
    "from libs.utils_import import import_dataset\n",
    "\n",
    "from libs.utils_import import preprocessing_taxa\n",
    "from libs.utils_import import sort_asv_table"
   ]
  },
  {
   "cell_type": "code",
   "execution_count": 4,
   "metadata": {},
   "outputs": [
    {
     "name": "stdout",
     "output_type": "stream",
     "text": [
      "file_save...\n"
     ]
    }
   ],
   "source": [
    "df_asv, df_meta = sort_asv_table(\n",
    "        path_asv='./Data_24hr/rarefied_table_24hr.tsv',\n",
    "        asv_sep='\\t',\n",
    "        path_meta='./Data_24hr/metadata_24.txt',\n",
    "        meta_sep='\\t',\n",
    "        asv_index='#NAME',\n",
    "        meta_index='sampleid',\n",
    "        sort_feature='Chikpea_24',\n",
    "        sort_value='O',\n",
    "        is_save=True,\n",
    "        save_file_name='chikpea_24hr'\n",
    "    )"
   ]
  },
  {
   "cell_type": "code",
   "execution_count": 5,
   "metadata": {},
   "outputs": [
    {
     "name": "stdout",
     "output_type": "stream",
     "text": [
      "file_save...\n"
     ]
    }
   ],
   "source": [
    "# total rarefied_file...\n",
    "df_taxa = preprocessing_taxa(\n",
    "        path='./Data_24hr/taxonomy_24hr.tsv',\n",
    "        sep='\\t',\n",
    "        feature_id='Feature ID',\n",
    "        taxa_colum='Taxon',\n",
    "        is_save=True,\n",
    "        file_name='taxa_silva'\n",
    "    )"
   ]
  },
  {
   "cell_type": "code",
   "execution_count": null,
   "metadata": {},
   "outputs": [],
   "source": []
  }
 ],
 "metadata": {
  "kernelspec": {
   "display_name": "JINWOO",
   "language": "python",
   "name": "python3"
  },
  "language_info": {
   "codemirror_mode": {
    "name": "ipython",
    "version": 3
   },
   "file_extension": ".py",
   "mimetype": "text/x-python",
   "name": "python",
   "nbconvert_exporter": "python",
   "pygments_lexer": "ipython3",
   "version": "3.12.3"
  }
 },
 "nbformat": 4,
 "nbformat_minor": 2
}
