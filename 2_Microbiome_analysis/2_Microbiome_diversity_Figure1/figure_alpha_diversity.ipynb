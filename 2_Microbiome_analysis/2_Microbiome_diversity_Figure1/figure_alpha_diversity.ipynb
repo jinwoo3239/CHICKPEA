{
 "cells": [
  {
   "cell_type": "code",
   "execution_count": null,
   "metadata": {},
   "outputs": [],
   "source": [
    "import pandas as pd\n",
    "import seaborn as sns\n",
    "\n",
    "import matplotlib.pyplot as plt\n",
    "\n",
    "plt.rcParams['font.family'] = 'Arial'\n",
    "\n",
    "import warnings\n",
    "warnings.filterwarnings(\"ignore\")"
   ]
  },
  {
   "cell_type": "code",
   "execution_count": null,
   "metadata": {},
   "outputs": [],
   "source": [
    "# \"Alpha diversity analysis was performed using MicrobiomeAnalyst.\"\n",
    "# https://www.microbiomeanalyst.ca/\n",
    "\n",
    "# diversity, Observed, Chao1, Shannon, Simpson\n",
    "orders = ['Control', 'Chickpea']\n",
    "g_colors = ['lightcoral', 'lightseagreen']"
   ]
  },
  {
   "cell_type": "code",
   "execution_count": 7,
   "metadata": {},
   "outputs": [],
   "source": [
    "df_observed = pd.read_excel('./Data/diversity_summary_250403.xlsx', sheet_name='f_observed')\n",
    "df_chao = pd.read_excel('./Data/diversity_summary_250403.xlsx', sheet_name='f_chao')\n",
    "df_simpson = pd.read_excel('./Data/diversity_summary_250403.xlsx', sheet_name='f_simpson')\n",
    "df_fisher = pd.read_excel('./Data/diversity_summary_250403.xlsx', sheet_name='f_fisher')"
   ]
  },
  {
   "cell_type": "code",
   "execution_count": 22,
   "metadata": {},
   "outputs": [
    {
     "data": {
      "image/png": "[encoded data removed]",
      "text/plain": [
       "<Figure size 700x180 with 4 Axes>"
      ]
     },
     "metadata": {},
     "output_type": "display_data"
    }
   ],
   "source": [
    "seqs_title = ['Observed', 'Chao', 'Simpson', 'Fisher']\n",
    "seqs_dfs = [df_observed, df_chao, df_simpson, df_fisher]\n",
    "\n",
    "\n",
    "plt.figure(figsize=(7, 1.8))\n",
    "for i in range(4):\n",
    "    plt.subplot(1, 4, i+1)\n",
    "\n",
    "    sns.boxplot(data=seqs_dfs[i], x='Group', y='value', order=orders, palette=g_colors)\n",
    "\n",
    "    plt.xticks(fontsize=9)\n",
    "    plt.yticks(fontsize=9)\n",
    "    plt.ylim(seqs_dfs[i].value.min()*0.8, seqs_dfs[i].value.max()*1.3)\n",
    "    plt.ylabel('')\n",
    "    plt.xlabel('')\n",
    "    plt.title(f'{seqs_title[i]}', fontsize=9.5)\n",
    "    \n",
    "    \n",
    "plt.tight_layout()\n",
    "# plt.savefig('./output_figure/alpha_diversity.png', dpi=600)\n"
   ]
  },
  {
   "cell_type": "code",
   "execution_count": null,
   "metadata": {},
   "outputs": [],
   "source": []
  }
 ],
 "metadata": {
  "kernelspec": {
   "display_name": "JINWOO",
   "language": "python",
   "name": "python3"
  },
  "language_info": {
   "codemirror_mode": {
    "name": "ipython",
    "version": 3
   },
   "file_extension": ".py",
   "mimetype": "text/x-python",
   "name": "python",
   "nbconvert_exporter": "python",
   "pygments_lexer": "ipython3",
   "version": "3.12.3"
  }
 },
 "nbformat": 4,
 "nbformat_minor": 2
}
