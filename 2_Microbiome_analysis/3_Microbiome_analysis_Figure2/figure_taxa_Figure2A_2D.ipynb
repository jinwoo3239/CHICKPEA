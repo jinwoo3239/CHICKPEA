{
 "cells": [
  {
   "cell_type": "code",
   "execution_count": null,
   "metadata": {},
   "outputs": [],
   "source": [
    "import pandas as pd\n",
    "\n",
    "import matplotlib.pyplot as plt\n",
    "\n",
    "plt.rcParams['font.family'] = 'Arial'\n",
    "\n",
    "import warnings\n",
    "warnings.filterwarnings(\"ignore\")\n"
   ]
  },
  {
   "cell_type": "code",
   "execution_count": 5,
   "metadata": {},
   "outputs": [
    {
     "data": {
      "text/html": [
       "<div>\n",
       "<style scoped>\n",
       "    .dataframe tbody tr th:only-of-type {\n",
       "        vertical-align: middle;\n",
       "    }\n",
       "\n",
       "    .dataframe tbody tr th {\n",
       "        vertical-align: top;\n",
       "    }\n",
       "\n",
       "    .dataframe thead th {\n",
       "        text-align: right;\n",
       "    }\n",
       "</style>\n",
       "<table border=\"1\" class=\"dataframe\">\n",
       "  <thead>\n",
       "    <tr style=\"text-align: right;\">\n",
       "      <th>features</th>\n",
       "      <th>Bacteroidota</th>\n",
       "      <th>Firmicutes</th>\n",
       "      <th>Proteobacteria</th>\n",
       "      <th>Actinobacteriota</th>\n",
       "      <th>Fusobacteriota</th>\n",
       "      <th>Desulfobacterota</th>\n",
       "    </tr>\n",
       "  </thead>\n",
       "  <tbody>\n",
       "    <tr>\n",
       "      <th>Control</th>\n",
       "      <td>50.330275</td>\n",
       "      <td>22.293578</td>\n",
       "      <td>23.926606</td>\n",
       "      <td>1.155963</td>\n",
       "      <td>0.321101</td>\n",
       "      <td>1.972477</td>\n",
       "    </tr>\n",
       "    <tr>\n",
       "      <th>Chickpea</th>\n",
       "      <td>38.456662</td>\n",
       "      <td>39.978263</td>\n",
       "      <td>11.276153</td>\n",
       "      <td>9.428494</td>\n",
       "      <td>0.054343</td>\n",
       "      <td>0.806086</td>\n",
       "    </tr>\n",
       "  </tbody>\n",
       "</table>\n",
       "</div>"
      ],
      "text/plain": [
       "features  Bacteroidota  Firmicutes  Proteobacteria  Actinobacteriota  \\\n",
       "Control      50.330275   22.293578       23.926606          1.155963   \n",
       "Chickpea     38.456662   39.978263       11.276153          9.428494   \n",
       "\n",
       "features  Fusobacteriota  Desulfobacterota  \n",
       "Control         0.321101          1.972477  \n",
       "Chickpea        0.054343          0.806086  "
      ]
     },
     "execution_count": 5,
     "metadata": {},
     "output_type": "execute_result"
    }
   ],
   "source": [
    "# \"MicrobiomeAnalyst was used to perform abundance and LEfSe analyses\n",
    "# Using the input files\n",
    "# 1_Processing/chickpea_24hr_asv.csv, 1_Processing/chickpea_24hr_meta.csv, and 1_Processing/taxa_silva.csv.\"\n",
    "\n",
    "# Phylum\n",
    "\n",
    "df_p_tax = pd.read_excel('./Data/abundance_lefse.xlsx', sheet_name='phylum_merge')\n",
    "df_p_tax= df_p_tax.set_index('features').T\n",
    "df_p_tax.head(2)"
   ]
  },
  {
   "cell_type": "code",
   "execution_count": 6,
   "metadata": {},
   "outputs": [
    {
     "data": {
      "image/png": "[encoded data removed]",
      "text/plain": [
       "<Figure size 345x200 with 1 Axes>"
      ]
     },
     "metadata": {},
     "output_type": "display_data"
    }
   ],
   "source": [
    "# Phylum\n",
    "\n",
    "df_p_tax.plot(kind='bar', stacked=True,figsize=(3.45, 2), colormap='Pastel1', edgecolor='k', linewidth=0.5, width=0.7)\n",
    "plt.xticks(rotation=0, fontsize=9)\n",
    "plt.yticks(fontsize=9)\n",
    "plt.ylabel('Relative Abundance (%)', fontsize=9)\n",
    "plt.legend(bbox_to_anchor=(1.05, 1), fontsize=9)\n",
    "plt.tight_layout()\n",
    "# plt.savefig('./output_figure/phylum_relative_abundance.png', dpi=600)\n",
    "plt.show()"
   ]
  },
  {
   "cell_type": "code",
   "execution_count": 7,
   "metadata": {},
   "outputs": [
    {
     "data": {
      "text/html": [
       "<div>\n",
       "<style scoped>\n",
       "    .dataframe tbody tr th:only-of-type {\n",
       "        vertical-align: middle;\n",
       "    }\n",
       "\n",
       "    .dataframe tbody tr th {\n",
       "        vertical-align: top;\n",
       "    }\n",
       "\n",
       "    .dataframe thead th {\n",
       "        text-align: right;\n",
       "    }\n",
       "</style>\n",
       "<table border=\"1\" class=\"dataframe\">\n",
       "  <thead>\n",
       "    <tr style=\"text-align: right;\">\n",
       "      <th>features</th>\n",
       "      <th>Bacteroides</th>\n",
       "      <th>Bifidobacterium</th>\n",
       "      <th>Blautia</th>\n",
       "      <th>Escherichia</th>\n",
       "      <th>f_Lachnospiraceae;g_UA</th>\n",
       "      <th>Parabacteroides</th>\n",
       "      <th>Prevotella</th>\n",
       "      <th>Agathobacter</th>\n",
       "      <th>Others</th>\n",
       "    </tr>\n",
       "  </thead>\n",
       "  <tbody>\n",
       "    <tr>\n",
       "      <th>Control</th>\n",
       "      <td>37.137615</td>\n",
       "      <td>1.091743</td>\n",
       "      <td>0.715596</td>\n",
       "      <td>14.220183</td>\n",
       "      <td>1.733945</td>\n",
       "      <td>9.761468</td>\n",
       "      <td>0.559633</td>\n",
       "      <td>0.128440</td>\n",
       "      <td>34.651376</td>\n",
       "    </tr>\n",
       "    <tr>\n",
       "      <th>Chickpea</th>\n",
       "      <td>28.430396</td>\n",
       "      <td>9.392265</td>\n",
       "      <td>7.689521</td>\n",
       "      <td>6.158862</td>\n",
       "      <td>5.198804</td>\n",
       "      <td>5.180690</td>\n",
       "      <td>3.849289</td>\n",
       "      <td>3.776832</td>\n",
       "      <td>30.323340</td>\n",
       "    </tr>\n",
       "  </tbody>\n",
       "</table>\n",
       "</div>"
      ],
      "text/plain": [
       "features  Bacteroides  Bifidobacterium   Blautia  Escherichia  \\\n",
       "Control     37.137615         1.091743  0.715596    14.220183   \n",
       "Chickpea    28.430396         9.392265  7.689521     6.158862   \n",
       "\n",
       "features  f_Lachnospiraceae;g_UA  Parabacteroides  Prevotella  Agathobacter  \\\n",
       "Control                 1.733945         9.761468    0.559633      0.128440   \n",
       "Chickpea                5.198804         5.180690    3.849289      3.776832   \n",
       "\n",
       "features     Others  \n",
       "Control   34.651376  \n",
       "Chickpea  30.323340  "
      ]
     },
     "execution_count": 7,
     "metadata": {},
     "output_type": "execute_result"
    }
   ],
   "source": [
    "# Genus\n",
    "\n",
    "df_g_tax = pd.read_excel('./Data/abundance_lefse.xlsx', sheet_name='genus_merge_rev')\n",
    "df_g_tax= df_g_tax.set_index('features').T\n",
    "df_g_tax.head(2)"
   ]
  },
  {
   "cell_type": "code",
   "execution_count": 8,
   "metadata": {},
   "outputs": [
    {
     "data": {
      "image/png": "[encoded data removed]",
      "text/plain": [
       "<Figure size 392x200 with 1 Axes>"
      ]
     },
     "metadata": {},
     "output_type": "display_data"
    }
   ],
   "source": [
    "# Genus\n",
    "\n",
    "df_g_tax.plot(kind='bar', stacked=True,figsize=(3.92, 2), colormap='Pastel1', edgecolor='k', linewidth=0.5, width=0.7)\n",
    "plt.xticks(rotation=0, fontsize=9)\n",
    "plt.yticks(fontsize=9)\n",
    "plt.ylabel('Relative Abundance (%)', fontsize=9)\n",
    "plt.legend(bbox_to_anchor=(1.05, 1), fontsize=9)\n",
    "plt.tight_layout()\n",
    "# plt.savefig('./output_figure/genus_relative_abundance.png', dpi=600)\n",
    "plt.show()"
   ]
  },
  {
   "cell_type": "code",
   "execution_count": null,
   "metadata": {},
   "outputs": [],
   "source": []
  }
 ],
 "metadata": {
  "kernelspec": {
   "display_name": "JINWOO",
   "language": "python",
   "name": "python3"
  },
  "language_info": {
   "codemirror_mode": {
    "name": "ipython",
    "version": 3
   },
   "file_extension": ".py",
   "mimetype": "text/x-python",
   "name": "python",
   "nbconvert_exporter": "python",
   "pygments_lexer": "ipython3",
   "version": "3.12.3"
  }
 },
 "nbformat": 4,
 "nbformat_minor": 2
}
