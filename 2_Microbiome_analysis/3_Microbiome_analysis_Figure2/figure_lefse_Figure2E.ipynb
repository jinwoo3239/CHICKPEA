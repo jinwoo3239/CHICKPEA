{
 "cells": [
  {
   "cell_type": "code",
   "execution_count": 1,
   "metadata": {},
   "outputs": [],
   "source": [
    "import pandas as pd\n",
    "import seaborn as sns\n",
    "import matplotlib.pyplot as plt\n",
    "\n",
    "plt.rcParams['font.family'] = 'Arial'\n",
    "\n",
    "import warnings\n",
    "warnings.filterwarnings(\"ignore\")"
   ]
  },
  {
   "cell_type": "code",
   "execution_count": 2,
   "metadata": {},
   "outputs": [],
   "source": [
    "orders = ['Control', 'Chickpea']\n",
    "g_colors = [ 'lightcoral', 'lightseagreen']"
   ]
  },
  {
   "cell_type": "code",
   "execution_count": 3,
   "metadata": {},
   "outputs": [
    {
     "data": {
      "text/html": [
       "<div>\n",
       "<style scoped>\n",
       "    .dataframe tbody tr th:only-of-type {\n",
       "        vertical-align: middle;\n",
       "    }\n",
       "\n",
       "    .dataframe tbody tr th {\n",
       "        vertical-align: top;\n",
       "    }\n",
       "\n",
       "    .dataframe thead th {\n",
       "        text-align: right;\n",
       "    }\n",
       "</style>\n",
       "<table border=\"1\" class=\"dataframe\">\n",
       "  <thead>\n",
       "    <tr style=\"text-align: right;\">\n",
       "      <th></th>\n",
       "      <th>features</th>\n",
       "      <th>Pvalues</th>\n",
       "      <th>FDR</th>\n",
       "      <th>Control</th>\n",
       "      <th>Chickpea</th>\n",
       "      <th>LDAscore</th>\n",
       "    </tr>\n",
       "  </thead>\n",
       "  <tbody>\n",
       "    <tr>\n",
       "      <th>0</th>\n",
       "      <td>Actinobacteriota</td>\n",
       "      <td>0.016651</td>\n",
       "      <td>0.05733</td>\n",
       "      <td>11463.0</td>\n",
       "      <td>94288.0</td>\n",
       "      <td>-4.62</td>\n",
       "    </tr>\n",
       "    <tr>\n",
       "      <th>1</th>\n",
       "      <td>Firmicutes</td>\n",
       "      <td>0.019110</td>\n",
       "      <td>0.05733</td>\n",
       "      <td>223100.0</td>\n",
       "      <td>400230.0</td>\n",
       "      <td>-4.95</td>\n",
       "    </tr>\n",
       "  </tbody>\n",
       "</table>\n",
       "</div>"
      ],
      "text/plain": [
       "           features   Pvalues      FDR   Control  Chickpea  LDAscore\n",
       "0  Actinobacteriota  0.016651  0.05733   11463.0   94288.0     -4.62\n",
       "1        Firmicutes  0.019110  0.05733  223100.0  400230.0     -4.95"
      ]
     },
     "execution_count": 3,
     "metadata": {},
     "output_type": "execute_result"
    }
   ],
   "source": [
    "df_p_lefse = pd.read_excel('./Data/abundance_lefse.xlsx', sheet_name='phylum_lefse')\n",
    "df_p_lefse.head(2)"
   ]
  },
  {
   "cell_type": "code",
   "execution_count": 4,
   "metadata": {},
   "outputs": [],
   "source": [
    "data = df_p_lefse[df_p_lefse.FDR < 0.1]\n",
    "data = data[abs(data.LDAscore) > 3.0]\n",
    "data = data.sort_values(by='LDAscore', ascending=False)"
   ]
  },
  {
   "cell_type": "code",
   "execution_count": 5,
   "metadata": {},
   "outputs": [
    {
     "data": {
      "image/png": "[encoded data removed]",
      "text/plain": [
       "<Figure size 270x150 with 1 Axes>"
      ]
     },
     "metadata": {},
     "output_type": "display_data"
    }
   ],
   "source": [
    "plt.figure(figsize=(2.7, 1.5))\n",
    "colors = ['lightcoral'] * 1 +  ['lightseagreen'] * 2\n",
    "sns.barplot(x='LDAscore', y='features', data=data, palette=colors)\n",
    "plt.xlabel('LDA score', fontsize=9)\n",
    "plt.yticks(fontsize=9.2)\n",
    "plt.ylabel('')\n",
    "plt.xticks([-6, -3, 0, 3, 6], fontsize=9)\n",
    "plt.tight_layout()\n",
    "\n",
    "# plt.savefig('./output_figure/lefse_phylum.png', dpi=600)\n",
    "plt.show()\n"
   ]
  },
  {
   "cell_type": "code",
   "execution_count": 15,
   "metadata": {},
   "outputs": [
    {
     "data": {
      "text/html": [
       "<div>\n",
       "<style scoped>\n",
       "    .dataframe tbody tr th:only-of-type {\n",
       "        vertical-align: middle;\n",
       "    }\n",
       "\n",
       "    .dataframe tbody tr th {\n",
       "        vertical-align: top;\n",
       "    }\n",
       "\n",
       "    .dataframe thead th {\n",
       "        text-align: right;\n",
       "    }\n",
       "</style>\n",
       "<table border=\"1\" class=\"dataframe\">\n",
       "  <thead>\n",
       "    <tr style=\"text-align: right;\">\n",
       "      <th></th>\n",
       "      <th>features</th>\n",
       "      <th>Pvalues</th>\n",
       "      <th>Control</th>\n",
       "      <th>Chickpea</th>\n",
       "      <th>LDAscore</th>\n",
       "      <th>LDA_abs</th>\n",
       "      <th>P_rank</th>\n",
       "      <th>FDR</th>\n",
       "    </tr>\n",
       "  </thead>\n",
       "  <tbody>\n",
       "    <tr>\n",
       "      <th>0</th>\n",
       "      <td>Blautia</td>\n",
       "      <td>0.001493</td>\n",
       "      <td>7186.4</td>\n",
       "      <td>76618.0</td>\n",
       "      <td>-4.54</td>\n",
       "      <td>4.54</td>\n",
       "      <td>2</td>\n",
       "      <td>0.014927</td>\n",
       "    </tr>\n",
       "    <tr>\n",
       "      <th>1</th>\n",
       "      <td>f_Lachnospiraceae;g_UA</td>\n",
       "      <td>0.002488</td>\n",
       "      <td>17391.0</td>\n",
       "      <td>51940.0</td>\n",
       "      <td>-4.24</td>\n",
       "      <td>4.24</td>\n",
       "      <td>3</td>\n",
       "      <td>0.016583</td>\n",
       "    </tr>\n",
       "  </tbody>\n",
       "</table>\n",
       "</div>"
      ],
      "text/plain": [
       "                 features   Pvalues  Control  Chickpea  LDAscore  LDA_abs  \\\n",
       "0                 Blautia  0.001493   7186.4   76618.0     -4.54     4.54   \n",
       "1  f_Lachnospiraceae;g_UA  0.002488  17391.0   51940.0     -4.24     4.24   \n",
       "\n",
       "   P_rank       FDR  \n",
       "0       2  0.014927  \n",
       "1       3  0.016583  "
      ]
     },
     "execution_count": 15,
     "metadata": {},
     "output_type": "execute_result"
    }
   ],
   "source": [
    "df_g_lefse = pd.read_excel('./Data/abundance_lefse.xlsx', sheet_name='genus_lefse_rev2')\n",
    "df_g_lefse.head(2)"
   ]
  },
  {
   "cell_type": "code",
   "execution_count": 16,
   "metadata": {},
   "outputs": [],
   "source": [
    "data = df_g_lefse[df_g_lefse.FDR < 0.05]\n",
    "data = data[abs(data.LDAscore) > 3.0]\n",
    "data = data.sort_values(by='LDAscore', ascending=False)"
   ]
  },
  {
   "cell_type": "code",
   "execution_count": 17,
   "metadata": {},
   "outputs": [
    {
     "data": {
      "image/png": "[encoded data removed]",
      "text/plain": [
       "<Figure size 320x200 with 1 Axes>"
      ]
     },
     "metadata": {},
     "output_type": "display_data"
    }
   ],
   "source": [
    "plt.figure(figsize=(3.2, 2))\n",
    "colors = ['lightcoral'] * 4 +  ['lightseagreen'] * 4\n",
    "sns.barplot(x='LDAscore', y='features', data=data, palette=colors)\n",
    "plt.xlabel('LDA score', fontsize=9)\n",
    "plt.yticks(fontsize=9.2)\n",
    "plt.ylabel('')\n",
    "plt.xticks([-6, -3, 0, 3, 6], fontsize=9)\n",
    "plt.tight_layout()\n",
    "\n",
    "# plt.savefig('./output_figure/lefse_genus.png', dpi=600)\n",
    "plt.show()\n"
   ]
  },
  {
   "cell_type": "code",
   "execution_count": null,
   "metadata": {},
   "outputs": [],
   "source": []
  },
  {
   "cell_type": "code",
   "execution_count": null,
   "metadata": {},
   "outputs": [],
   "source": []
  },
  {
   "cell_type": "code",
   "execution_count": null,
   "metadata": {},
   "outputs": [],
   "source": []
  },
  {
   "cell_type": "code",
   "execution_count": null,
   "metadata": {},
   "outputs": [],
   "source": []
  }
 ],
 "metadata": {
  "kernelspec": {
   "display_name": "JINWOO",
   "language": "python",
   "name": "python3"
  },
  "language_info": {
   "codemirror_mode": {
    "name": "ipython",
    "version": 3
   },
   "file_extension": ".py",
   "mimetype": "text/x-python",
   "name": "python",
   "nbconvert_exporter": "python",
   "pygments_lexer": "ipython3",
   "version": "3.12.3"
  }
 },
 "nbformat": 4,
 "nbformat_minor": 2
}
