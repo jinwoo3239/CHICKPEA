{
 "cells": [
  {
   "cell_type": "code",
   "execution_count": 5,
   "metadata": {},
   "outputs": [],
   "source": [
    "import os\n",
    "import zipfile"
   ]
  },
  {
   "cell_type": "code",
   "execution_count": 8,
   "metadata": {},
   "outputs": [],
   "source": [
    "# To extract the qza data files for future analysis, move the qza files to the export_qza_dataset directory."
   ]
  },
  {
   "cell_type": "code",
   "execution_count": 6,
   "metadata": {},
   "outputs": [],
   "source": [
    "def extract_qza_files(folder_path):\n",
    "    # 폴더 내 모든 .qza 파일 찾기\n",
    "    qza_files = []\n",
    "    for root, _, files in os.walk(folder_path):\n",
    "        for file in files:\n",
    "            if file.endswith(\".qza\"):\n",
    "                qza_files.append(os.path.join(root, file))\n",
    "\n",
    "    # .qza 파일을 모두 압축 해제하기\n",
    "    for qza_file in qza_files:\n",
    "        output_dir = f\"{os.path.splitext(qza_file)[0]}_extracted\"\n",
    "        os.makedirs(output_dir, exist_ok=True)\n",
    "        \n",
    "        try:\n",
    "            with zipfile.ZipFile(qza_file, 'r') as zip_ref:\n",
    "                zip_ref.extractall(output_dir)\n",
    "            # print(f\"Successfully extracted: {qza_file} -> {output_dir}\")\n",
    "        \n",
    "        except zipfile.BadZipFile:\n",
    "            print(f\"Error extracting {qza_file}: Not a valid .zip file\")\n"
   ]
  },
  {
   "cell_type": "code",
   "execution_count": 7,
   "metadata": {},
   "outputs": [],
   "source": [
    "extract_qza_files('export_qza_dataset/0hr')\n",
    "extract_qza_files('export_qza_dataset/24hr')"
   ]
  },
  {
   "cell_type": "code",
   "execution_count": 10,
   "metadata": {},
   "outputs": [],
   "source": [
    "# When extracting qza files later, biom files will be generated. To convert them to tsv format, gather them in the export_biom_dataset directory and extract them.\n",
    "# At this time, make sure to properly name the biom files to avoid duplication."
   ]
  },
  {
   "cell_type": "code",
   "execution_count": 11,
   "metadata": {},
   "outputs": [],
   "source": [
    "!biom convert -i export_biom_dataset/0hr/rarefied_table_0hr.biom -o export_biom_dataset/0hr/rarefied_table_0hr.tsv --to-tsv\n",
    "!biom convert -i export_biom_dataset/0hr/table_0hr.biom -o export_biom_dataset/0hr/table_0hr.tsv --to-tsv\n",
    "\n",
    "!biom convert -i export_biom_dataset/24hr/rarefied_table_24hr.biom -o export_biom_dataset/24hr/rarefied_table_24hr.tsv --to-tsv\n",
    "!biom convert -i export_biom_dataset/24hr/table_24hr.biom -o export_biom_dataset/24hr/table_24hr.tsv --to-tsv\n"
   ]
  },
  {
   "cell_type": "code",
   "execution_count": null,
   "metadata": {},
   "outputs": [],
   "source": []
  }
 ],
 "metadata": {
  "kernelspec": {
   "display_name": "jinwoo",
   "language": "python",
   "name": "python3"
  },
  "language_info": {
   "codemirror_mode": {
    "name": "ipython",
    "version": 3
   },
   "file_extension": ".py",
   "mimetype": "text/x-python",
   "name": "python",
   "nbconvert_exporter": "python",
   "pygments_lexer": "ipython3",
   "version": "3.12.3"
  }
 },
 "nbformat": 4,
 "nbformat_minor": 2
}
