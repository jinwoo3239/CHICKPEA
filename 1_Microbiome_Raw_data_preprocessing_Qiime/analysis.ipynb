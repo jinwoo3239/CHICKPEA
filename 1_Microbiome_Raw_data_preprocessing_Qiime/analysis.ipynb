{
 "cells": [
  {
   "cell_type": "code",
   "execution_count": null,
   "metadata": {},
   "outputs": [
    {
     "name": "stdout",
     "output_type": "stream",
     "text": [
      "\u001b[32mSaved FeatureData[Taxonomy] to: output/24hr/taxonomy_24hr.qza\u001b[0m\n",
      "\u001b[0m\u001b[32mSaved FeatureData[Taxonomy] to: output/0hr/taxonomy_0.hrqza.qza\u001b[0m\n",
      "\u001b[0m"
     ]
    }
   ],
   "source": [
    "# taxonmy analysis\n",
    "\n",
    "#24hr\n",
    "!qiime feature-classifier classify-sklearn \\\n",
    "  --i-classifier './DB/silva-138-99-515-806-nb-classifier.qza' \\\n",
    "  --i-reads data/Chickpea_24hr_incubation_rep_seqs.qza \\\n",
    "  --o-classification output/24hr/taxonomy_24hr.qza\n",
    "\n",
    "\n",
    "#0hr\n",
    "!qiime feature-classifier classify-sklearn \\\n",
    "  --i-classifier './DB/silva-138-99-515-806-nb-classifier.qza' \\\n",
    "  --i-reads data/Chickpea_0hr_incubation_rep_seqs.qza \\\n",
    "  --o-classification output/0hr/taxonomy_0.qza"
   ]
  },
  {
   "cell_type": "code",
   "execution_count": 3,
   "metadata": {},
   "outputs": [
    {
     "name": "stdout",
     "output_type": "stream",
     "text": [
      "\u001b[32mSaved FeatureData[AlignedSequence] to: output/24hr/aligned-rep-seqs_24.qza\u001b[0m\n",
      "\u001b[32mSaved FeatureData[AlignedSequence] to: output/24hr/masked-aligned-rep-seqs_24.qza\u001b[0m\n",
      "\u001b[32mSaved Phylogeny[Unrooted] to: output/24hr/unrooted-tree_24.qza\u001b[0m\n",
      "\u001b[32mSaved Phylogeny[Rooted] to: output/24hr/rooted-tree_24.qza\u001b[0m\n",
      "\u001b[0m\u001b[32mSaved FeatureData[AlignedSequence] to: output/0hr/aligned-rep-seqs_0.qza\u001b[0m\n",
      "\u001b[32mSaved FeatureData[AlignedSequence] to: output/0hr/masked-aligned-rep-seqs_0.qza\u001b[0m\n",
      "\u001b[32mSaved Phylogeny[Unrooted] to: output/0hr/unrooted-tree_0.qza\u001b[0m\n",
      "\u001b[32mSaved Phylogeny[Rooted] to: output/0hr/rooted-tree_0.qza\u001b[0m\n",
      "\u001b[0m"
     ]
    }
   ],
   "source": [
    "# phylogenetic_diversity\n",
    "\n",
    "#24hr\n",
    "!qiime phylogeny align-to-tree-mafft-fasttree \\\n",
    "  --i-sequences data/Chickpea_24hr_incubation_rep_seqs.qza \\\n",
    "  --o-alignment output/24hr/aligned-rep-seqs_24.qza \\\n",
    "  --o-masked-alignment output/24hr/masked-aligned-rep-seqs_24.qza \\\n",
    "  --o-tree output/24hr/unrooted-tree_24.qza \\\n",
    "  --o-rooted-tree output/24hr/rooted-tree_24.qza\n",
    "\n",
    "#0hr\n",
    "!qiime phylogeny align-to-tree-mafft-fasttree \\\n",
    "  --i-sequences data/Chickpea_0hr_incubation_rep_seqs.qza \\\n",
    "  --o-alignment output/0hr/aligned-rep-seqs_0.qza \\\n",
    "  --o-masked-alignment output/0hr/masked-aligned-rep-seqs_0.qza \\\n",
    "  --o-tree output/0hr/unrooted-tree_0.qza \\\n",
    "  --o-rooted-tree output/0hr/rooted-tree_0.qza"
   ]
  },
  {
   "cell_type": "code",
   "execution_count": null,
   "metadata": {},
   "outputs": [],
   "source": [
    "# !qiime feature-table summarize \\\n",
    "#     --i-table data/Chickpea_24hr_incubation_table.qza \\\n",
    "#     --o-visualization filtered_chickpea_24_table.qzv\n",
    "\n",
    "# # rarefied 1,181\n",
    "# !qiime tools view filtered_chickpea_24_table.qzv\n",
    "\n",
    "# !qiime feature-table summarize \\\n",
    "#     --i-table data/Chickpea_0hr_incubation_table.qza \\\n",
    "#     --o-visualization filtered_chickpea_0_table.qzv\n",
    "\n",
    "# # rarefied 1,791\n",
    "# !qiime tools view filtered_chickpea_0_table.qzv\n",
    "\n"
   ]
  },
  {
   "cell_type": "code",
   "execution_count": 4,
   "metadata": {},
   "outputs": [
    {
     "name": "stdout",
     "output_type": "stream",
     "text": [
      "\u001b[32mSaved FeatureTable[Frequency] to: output/24hr/core-metrics-results-24hr/rarefied_table.qza\u001b[0m\n",
      "\u001b[32mSaved SampleData[AlphaDiversity] to: output/24hr/core-metrics-results-24hr/faith_pd_vector.qza\u001b[0m\n",
      "\u001b[32mSaved SampleData[AlphaDiversity] to: output/24hr/core-metrics-results-24hr/observed_features_vector.qza\u001b[0m\n",
      "\u001b[32mSaved SampleData[AlphaDiversity] to: output/24hr/core-metrics-results-24hr/shannon_vector.qza\u001b[0m\n",
      "\u001b[32mSaved SampleData[AlphaDiversity] to: output/24hr/core-metrics-results-24hr/evenness_vector.qza\u001b[0m\n",
      "\u001b[32mSaved DistanceMatrix to: output/24hr/core-metrics-results-24hr/unweighted_unifrac_distance_matrix.qza\u001b[0m\n",
      "\u001b[32mSaved DistanceMatrix to: output/24hr/core-metrics-results-24hr/weighted_unifrac_distance_matrix.qza\u001b[0m\n",
      "\u001b[32mSaved DistanceMatrix to: output/24hr/core-metrics-results-24hr/jaccard_distance_matrix.qza\u001b[0m\n",
      "\u001b[32mSaved DistanceMatrix to: output/24hr/core-metrics-results-24hr/bray_curtis_distance_matrix.qza\u001b[0m\n",
      "\u001b[32mSaved PCoAResults to: output/24hr/core-metrics-results-24hr/unweighted_unifrac_pcoa_results.qza\u001b[0m\n",
      "\u001b[32mSaved PCoAResults to: output/24hr/core-metrics-results-24hr/weighted_unifrac_pcoa_results.qza\u001b[0m\n",
      "\u001b[32mSaved PCoAResults to: output/24hr/core-metrics-results-24hr/jaccard_pcoa_results.qza\u001b[0m\n",
      "\u001b[32mSaved PCoAResults to: output/24hr/core-metrics-results-24hr/bray_curtis_pcoa_results.qza\u001b[0m\n",
      "\u001b[32mSaved Visualization to: output/24hr/core-metrics-results-24hr/unweighted_unifrac_emperor.qzv\u001b[0m\n",
      "\u001b[32mSaved Visualization to: output/24hr/core-metrics-results-24hr/weighted_unifrac_emperor.qzv\u001b[0m\n",
      "\u001b[32mSaved Visualization to: output/24hr/core-metrics-results-24hr/jaccard_emperor.qzv\u001b[0m\n",
      "\u001b[32mSaved Visualization to: output/24hr/core-metrics-results-24hr/bray_curtis_emperor.qzv\u001b[0m\n",
      "\u001b[0m\u001b[32mSaved FeatureTable[Frequency] to: output/0hr/core-metrics-results-0hr/rarefied_table.qza\u001b[0m\n",
      "\u001b[32mSaved SampleData[AlphaDiversity] to: output/0hr/core-metrics-results-0hr/faith_pd_vector.qza\u001b[0m\n",
      "\u001b[32mSaved SampleData[AlphaDiversity] to: output/0hr/core-metrics-results-0hr/observed_features_vector.qza\u001b[0m\n",
      "\u001b[32mSaved SampleData[AlphaDiversity] to: output/0hr/core-metrics-results-0hr/shannon_vector.qza\u001b[0m\n",
      "\u001b[32mSaved SampleData[AlphaDiversity] to: output/0hr/core-metrics-results-0hr/evenness_vector.qza\u001b[0m\n",
      "\u001b[32mSaved DistanceMatrix to: output/0hr/core-metrics-results-0hr/unweighted_unifrac_distance_matrix.qza\u001b[0m\n",
      "\u001b[32mSaved DistanceMatrix to: output/0hr/core-metrics-results-0hr/weighted_unifrac_distance_matrix.qza\u001b[0m\n",
      "\u001b[32mSaved DistanceMatrix to: output/0hr/core-metrics-results-0hr/jaccard_distance_matrix.qza\u001b[0m\n",
      "\u001b[32mSaved DistanceMatrix to: output/0hr/core-metrics-results-0hr/bray_curtis_distance_matrix.qza\u001b[0m\n",
      "\u001b[32mSaved PCoAResults to: output/0hr/core-metrics-results-0hr/unweighted_unifrac_pcoa_results.qza\u001b[0m\n",
      "\u001b[32mSaved PCoAResults to: output/0hr/core-metrics-results-0hr/weighted_unifrac_pcoa_results.qza\u001b[0m\n",
      "\u001b[32mSaved PCoAResults to: output/0hr/core-metrics-results-0hr/jaccard_pcoa_results.qza\u001b[0m\n",
      "\u001b[32mSaved PCoAResults to: output/0hr/core-metrics-results-0hr/bray_curtis_pcoa_results.qza\u001b[0m\n",
      "\u001b[32mSaved Visualization to: output/0hr/core-metrics-results-0hr/unweighted_unifrac_emperor.qzv\u001b[0m\n",
      "\u001b[32mSaved Visualization to: output/0hr/core-metrics-results-0hr/weighted_unifrac_emperor.qzv\u001b[0m\n",
      "\u001b[32mSaved Visualization to: output/0hr/core-metrics-results-0hr/jaccard_emperor.qzv\u001b[0m\n",
      "\u001b[32mSaved Visualization to: output/0hr/core-metrics-results-0hr/bray_curtis_emperor.qzv\u001b[0m\n",
      "\u001b[0m"
     ]
    }
   ],
   "source": [
    "# CORE_METRICS\n",
    "\n",
    "#24hr\n",
    "!qiime diversity core-metrics-phylogenetic \\\n",
    "  --i-phylogeny output/24hr/rooted-tree_24.qza \\\n",
    "  --i-table data/Chickpea_24hr_incubation_table.qza \\\n",
    "  --p-sampling-depth 1118 \\\n",
    "  --m-metadata-file data/metadata_24.txt \\\n",
    "  --output-dir output/24hr/core-metrics-results-24hr\n",
    "\n",
    "#0hr\n",
    "!qiime diversity core-metrics-phylogenetic \\\n",
    "  --i-phylogeny output/0hr/rooted-tree_0.qza \\\n",
    "  --i-table data/Chickpea_0hr_incubation_table.qza \\\n",
    "  --p-sampling-depth 1791 \\\n",
    "  --m-metadata-file data/metadata_0.txt \\\n",
    "  --output-dir output/0hr/core-metrics-results-0hr"
   ]
  },
  {
   "cell_type": "code",
   "execution_count": null,
   "metadata": {},
   "outputs": [],
   "source": []
  },
  {
   "cell_type": "code",
   "execution_count": null,
   "metadata": {},
   "outputs": [],
   "source": []
  }
 ],
 "metadata": {
  "kernelspec": {
   "display_name": "qiime2-amplicon-2024.2",
   "language": "python",
   "name": "python3"
  },
  "language_info": {
   "codemirror_mode": {
    "name": "ipython",
    "version": 3
   },
   "file_extension": ".py",
   "mimetype": "text/x-python",
   "name": "python",
   "nbconvert_exporter": "python",
   "pygments_lexer": "ipython3",
   "version": "3.8.18"
  }
 },
 "nbformat": 4,
 "nbformat_minor": 2
}
