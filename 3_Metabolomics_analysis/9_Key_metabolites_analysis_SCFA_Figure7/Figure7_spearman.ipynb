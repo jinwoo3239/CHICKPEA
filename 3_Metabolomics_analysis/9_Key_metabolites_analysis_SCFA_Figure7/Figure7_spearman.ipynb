{
 "cells": [
  {
   "cell_type": "code",
   "execution_count": 1,
   "id": "bc97a508",
   "metadata": {},
   "outputs": [],
   "source": [
    "import pandas as pd\n",
    "\n",
    "from scipy.stats import spearmanr\n",
    "\n",
    "import matplotlib.pyplot as plt\n",
    "import seaborn as sns"
   ]
  },
  {
   "cell_type": "code",
   "execution_count": 4,
   "id": "c8dd1073",
   "metadata": {},
   "outputs": [],
   "source": [
    "genus_list = [\n",
    "    \"Bifidobacterium\",\n",
    "    \"Blautia\",\n",
    "    \"f_Lachnospiraceae\",\n",
    "    \"Monoglobus\",\n",
    "    \"Hungatella\",\n",
    "    \"Flavonifractor\",\n",
    "    \"Lachnoclostridium\",\n",
    "    \"Parabacteroides\",\n",
    "]"
   ]
  },
  {
   "cell_type": "code",
   "execution_count": 5,
   "id": "0cddc752",
   "metadata": {},
   "outputs": [],
   "source": [
    "x_features = genus_list\n",
    "y_features = ['AA', 'PA', 'BA',]"
   ]
  },
  {
   "cell_type": "code",
   "execution_count": 6,
   "id": "227509be",
   "metadata": {},
   "outputs": [],
   "source": [
    "df_key = pd.read_excel('./data/SCFA_250501.xlsx', sheet_name='key_dataset')\n",
    "\n",
    "\n",
    "corr_matrix = pd.DataFrame(index=x_features, columns=y_features)\n",
    "pval_matrix = pd.DataFrame(index=x_features, columns=y_features)\n"
   ]
  },
  {
   "cell_type": "code",
   "execution_count": 7,
   "id": "3b5293fc",
   "metadata": {},
   "outputs": [],
   "source": [
    "for x in x_features:\n",
    "    for y in y_features:\n",
    "        corr, pval = spearmanr(df_key[x], df_key[y])\n",
    "        corr_matrix.loc[x, y] = corr\n",
    "        pval_matrix.loc[x, y] = pval\n",
    "\n",
    "# Convert to float\n",
    "corr_matrix = corr_matrix.astype(float)\n",
    "pval_matrix = pval_matrix.astype(float)\n"
   ]
  },
  {
   "cell_type": "code",
   "execution_count": 8,
   "id": "e4089d9a",
   "metadata": {},
   "outputs": [
    {
     "data": {
      "text/html": [
       "<div>\n",
       "<style scoped>\n",
       "    .dataframe tbody tr th:only-of-type {\n",
       "        vertical-align: middle;\n",
       "    }\n",
       "\n",
       "    .dataframe tbody tr th {\n",
       "        vertical-align: top;\n",
       "    }\n",
       "\n",
       "    .dataframe thead th {\n",
       "        text-align: right;\n",
       "    }\n",
       "</style>\n",
       "<table border=\"1\" class=\"dataframe\">\n",
       "  <thead>\n",
       "    <tr style=\"text-align: right;\">\n",
       "      <th></th>\n",
       "      <th>AA</th>\n",
       "      <th>PA</th>\n",
       "      <th>BA</th>\n",
       "    </tr>\n",
       "  </thead>\n",
       "  <tbody>\n",
       "    <tr>\n",
       "      <th>Bifidobacterium</th>\n",
       "      <td>0.558720</td>\n",
       "      <td>0.590230</td>\n",
       "      <td>0.364283</td>\n",
       "    </tr>\n",
       "    <tr>\n",
       "      <th>Blautia</th>\n",
       "      <td>0.420023</td>\n",
       "      <td>0.511856</td>\n",
       "      <td>0.408732</td>\n",
       "    </tr>\n",
       "    <tr>\n",
       "      <th>f_Lachnospiraceae</th>\n",
       "      <td>0.442272</td>\n",
       "      <td>0.430989</td>\n",
       "      <td>0.447537</td>\n",
       "    </tr>\n",
       "    <tr>\n",
       "      <th>Monoglobus</th>\n",
       "      <td>0.230941</td>\n",
       "      <td>0.287827</td>\n",
       "      <td>0.421128</td>\n",
       "    </tr>\n",
       "    <tr>\n",
       "      <th>Hungatella</th>\n",
       "      <td>-0.333903</td>\n",
       "      <td>-0.422017</td>\n",
       "      <td>-0.354309</td>\n",
       "    </tr>\n",
       "    <tr>\n",
       "      <th>Flavonifractor</th>\n",
       "      <td>-0.357859</td>\n",
       "      <td>-0.419272</td>\n",
       "      <td>-0.232002</td>\n",
       "    </tr>\n",
       "    <tr>\n",
       "      <th>Lachnoclostridium</th>\n",
       "      <td>-0.356071</td>\n",
       "      <td>-0.368192</td>\n",
       "      <td>-0.463650</td>\n",
       "    </tr>\n",
       "    <tr>\n",
       "      <th>Parabacteroides</th>\n",
       "      <td>-0.586908</td>\n",
       "      <td>-0.633559</td>\n",
       "      <td>-0.570354</td>\n",
       "    </tr>\n",
       "  </tbody>\n",
       "</table>\n",
       "</div>"
      ],
      "text/plain": [
       "                         AA        PA        BA\n",
       "Bifidobacterium    0.558720  0.590230  0.364283\n",
       "Blautia            0.420023  0.511856  0.408732\n",
       "f_Lachnospiraceae  0.442272  0.430989  0.447537\n",
       "Monoglobus         0.230941  0.287827  0.421128\n",
       "Hungatella        -0.333903 -0.422017 -0.354309\n",
       "Flavonifractor    -0.357859 -0.419272 -0.232002\n",
       "Lachnoclostridium -0.356071 -0.368192 -0.463650\n",
       "Parabacteroides   -0.586908 -0.633559 -0.570354"
      ]
     },
     "execution_count": 8,
     "metadata": {},
     "output_type": "execute_result"
    }
   ],
   "source": [
    "corr_matrix"
   ]
  },
  {
   "cell_type": "code",
   "execution_count": 9,
   "id": "61613b56",
   "metadata": {},
   "outputs": [
    {
     "data": {
      "text/html": [
       "<div>\n",
       "<style scoped>\n",
       "    .dataframe tbody tr th:only-of-type {\n",
       "        vertical-align: middle;\n",
       "    }\n",
       "\n",
       "    .dataframe tbody tr th {\n",
       "        vertical-align: top;\n",
       "    }\n",
       "\n",
       "    .dataframe thead th {\n",
       "        text-align: right;\n",
       "    }\n",
       "</style>\n",
       "<table border=\"1\" class=\"dataframe\">\n",
       "  <thead>\n",
       "    <tr style=\"text-align: right;\">\n",
       "      <th></th>\n",
       "      <th>AA</th>\n",
       "      <th>PA</th>\n",
       "      <th>BA</th>\n",
       "    </tr>\n",
       "  </thead>\n",
       "  <tbody>\n",
       "    <tr>\n",
       "      <th>Bifidobacterium</th>\n",
       "      <td>0.010446</td>\n",
       "      <td>0.006151</td>\n",
       "      <td>0.114326</td>\n",
       "    </tr>\n",
       "    <tr>\n",
       "      <th>Blautia</th>\n",
       "      <td>0.065213</td>\n",
       "      <td>0.021050</td>\n",
       "      <td>0.073565</td>\n",
       "    </tr>\n",
       "    <tr>\n",
       "      <th>f_Lachnospiraceae</th>\n",
       "      <td>0.050867</td>\n",
       "      <td>0.057804</td>\n",
       "      <td>0.047857</td>\n",
       "    </tr>\n",
       "    <tr>\n",
       "      <th>Monoglobus</th>\n",
       "      <td>0.327271</td>\n",
       "      <td>0.218485</td>\n",
       "      <td>0.064436</td>\n",
       "    </tr>\n",
       "    <tr>\n",
       "      <th>Hungatella</th>\n",
       "      <td>0.150210</td>\n",
       "      <td>0.063815</td>\n",
       "      <td>0.125347</td>\n",
       "    </tr>\n",
       "    <tr>\n",
       "      <th>Flavonifractor</th>\n",
       "      <td>0.121341</td>\n",
       "      <td>0.065745</td>\n",
       "      <td>0.324991</td>\n",
       "    </tr>\n",
       "    <tr>\n",
       "      <th>Lachnoclostridium</th>\n",
       "      <td>0.123347</td>\n",
       "      <td>0.110202</td>\n",
       "      <td>0.039488</td>\n",
       "    </tr>\n",
       "    <tr>\n",
       "      <th>Parabacteroides</th>\n",
       "      <td>0.006520</td>\n",
       "      <td>0.002707</td>\n",
       "      <td>0.008642</td>\n",
       "    </tr>\n",
       "  </tbody>\n",
       "</table>\n",
       "</div>"
      ],
      "text/plain": [
       "                         AA        PA        BA\n",
       "Bifidobacterium    0.010446  0.006151  0.114326\n",
       "Blautia            0.065213  0.021050  0.073565\n",
       "f_Lachnospiraceae  0.050867  0.057804  0.047857\n",
       "Monoglobus         0.327271  0.218485  0.064436\n",
       "Hungatella         0.150210  0.063815  0.125347\n",
       "Flavonifractor     0.121341  0.065745  0.324991\n",
       "Lachnoclostridium  0.123347  0.110202  0.039488\n",
       "Parabacteroides    0.006520  0.002707  0.008642"
      ]
     },
     "execution_count": 9,
     "metadata": {},
     "output_type": "execute_result"
    }
   ],
   "source": [
    "pval_matrix"
   ]
  },
  {
   "cell_type": "code",
   "execution_count": 10,
   "id": "a3b13bb1",
   "metadata": {},
   "outputs": [],
   "source": [
    "significant_mask = pval_matrix < 0.05\n",
    "significant_corrs = corr_matrix.where(significant_mask).dropna(how='all').dropna(axis=1, how='all')"
   ]
  },
  {
   "cell_type": "code",
   "execution_count": 11,
   "id": "cf76f040",
   "metadata": {},
   "outputs": [
    {
     "data": {
      "image/png": "[encoded data removed]",
      "text/plain": [
       "<Figure size 310x150 with 2 Axes>"
      ]
     },
     "metadata": {},
     "output_type": "display_data"
    }
   ],
   "source": [
    "plt.figure(figsize=(3.1, 1.5))\n",
    "\n",
    "# Draw the heatmap for significant correlations\n",
    "sns.heatmap(significant_corrs, annot=True, cmap='vlag', center=0, fmt=\".2f\",\n",
    "             linewidths=0.5, annot_kws = {'size' : 9}, vmax=0.8, vmin=-0.8)\n",
    "\n",
    "# plt.title(\"Significant Spearman Correlation Heatmap (FDR < 0.05)\")\n",
    "plt.xticks(rotation=0, ha='center', fontsize=9)\n",
    "plt.yticks(rotation=0, fontsize=9, fontstyle='italic')\n",
    "plt.tight_layout()\n",
    "# plt.savefig('spearman_hydrolysis.png', dpi=600)\n",
    "plt.show()"
   ]
  },
  {
   "cell_type": "code",
   "execution_count": 26,
   "id": "fb506665",
   "metadata": {},
   "outputs": [],
   "source": [
    "# The SCFA intensities were normalized by setting the mean value of the control group to 1, allowing for relative comparison across groups.\n",
    "\n",
    "df = pd.read_excel('./data/SCFA_250501.xlsx', sheet_name='key_dataset_rel')\n"
   ]
  },
  {
   "cell_type": "code",
   "execution_count": 27,
   "id": "0438ccf6",
   "metadata": {},
   "outputs": [
    {
     "data": {
      "image/png": "[encoded data removed]",
      "text/plain": [
       "<Figure size 240x230 with 1 Axes>"
      ]
     },
     "metadata": {},
     "output_type": "display_data"
    }
   ],
   "source": [
    "# 지정한 색상 순서로 마커 스타일과 함께 그룹 시각화\n",
    "g_colors = ['lightcoral','lightseagreen',]\n",
    "group_order = [\"Control\", \"Chickpea\"]\n",
    "marker_dict = {\n",
    "    \"Control\": \"o\",\n",
    "    \"Chickpea\": \"s\",\n",
    "}\n",
    "\n",
    "plt.figure(figsize=(2.4, 2.3))\n",
    "for group, color in zip(group_order, g_colors):\n",
    "    subset = df[df[\"class\"] == group]\n",
    "    sns.scatterplot(\n",
    "        data=subset,\n",
    "        x=\"AA\",\n",
    "        y=\"Bifidobacterium\",\n",
    "        label=group,\n",
    "        color=color,\n",
    "        marker=marker_dict[group],\n",
    "        s=20,\n",
    "        edgecolor=\"black\"\n",
    "    )\n",
    "\n",
    "sns.regplot(\n",
    "data=df,\n",
    "x=\"AA\",\n",
    "y=\"Bifidobacterium\",\n",
    "scatter=False,\n",
    "color=\"black\",\n",
    "line_kws={\"linewidth\": 0.5, \"label\": \"Overall trend\", \"linestyle\": \"--\"}\n",
    ")\n",
    "\n",
    "# plt.title(\"Bifidobacterium vs Acetic acid by Group\")\n",
    "plt.xlabel(\"Relative peak intensity\\nAcetic acid\", fontsize=9)\n",
    "plt.ylabel(\"Bifidobacterium\\nRelative abundance\",  fontsize=9)\n",
    "plt.xticks(fontsize=9)\n",
    "plt.yticks(fontsize=9)\n",
    "\n",
    "plt.legend(title=\"Group\", fontsize=9).remove()\n",
    "plt.grid(True, linestyle=\"--\", linewidth=0.5, alpha=0.7)  # grid 추가\n",
    "\n",
    "\n",
    "plt.tight_layout()\n",
    "plt.savefig('corrleation_B_A.png', dpi=600)\n",
    "\n",
    "plt.show()\n"
   ]
  },
  {
   "cell_type": "code",
   "execution_count": 28,
   "id": "cc865273",
   "metadata": {},
   "outputs": [
    {
     "data": {
      "image/png": "[encoded data removed]",
      "text/plain": [
       "<Figure size 240x230 with 1 Axes>"
      ]
     },
     "metadata": {},
     "output_type": "display_data"
    }
   ],
   "source": [
    "# 지정한 색상 순서로 마커 스타일과 함께 그룹 시각화\n",
    "g_colors = ['lightcoral','lightseagreen',]\n",
    "group_order = [\"Control\", \"Chickpea\"]\n",
    "marker_dict = {\n",
    "    \"Control\": \"o\",\n",
    "    \"Chickpea\": \"s\",\n",
    "}\n",
    "\n",
    "plt.figure(figsize=(2.4, 2.3))\n",
    "for group, color in zip(group_order, g_colors):\n",
    "    subset = df[df[\"class\"] == group]\n",
    "    sns.scatterplot(\n",
    "        data=subset,\n",
    "        x=\"PA\",\n",
    "        y=\"Bifidobacterium\",\n",
    "        label=group,\n",
    "        color=color,\n",
    "        marker=marker_dict[group],\n",
    "        s=20,\n",
    "        edgecolor=\"black\"\n",
    "    )\n",
    "\n",
    "sns.regplot(\n",
    "data=df,\n",
    "x=\"PA\",\n",
    "y=\"Bifidobacterium\",\n",
    "scatter=False,\n",
    "color=\"black\",\n",
    "line_kws={\"linewidth\": 0.5, \"label\": \"Overall trend\", \"linestyle\": \"--\"}\n",
    ")\n",
    "\n",
    "# plt.title(\"Bifidobacterium vs Acetic acid by Group\")\n",
    "plt.xlabel(\"Relative peak intensity\\nPropionic acid\", fontsize=9)\n",
    "plt.ylabel(\"Bifidobacterium\\nRelative abundance\",  fontsize=9)\n",
    "plt.xticks(fontsize=9)\n",
    "plt.yticks(fontsize=9)\n",
    "\n",
    "plt.legend(title=\"Group\", fontsize=9).remove()\n",
    "plt.grid(True, linestyle=\"--\", linewidth=0.5, alpha=0.7)  # grid 추가\n",
    "\n",
    "\n",
    "plt.tight_layout()\n",
    "plt.savefig('corrleation_B_P.png', dpi=600)\n",
    "\n",
    "plt.show()\n"
   ]
  },
  {
   "cell_type": "code",
   "execution_count": 29,
   "id": "68e71709",
   "metadata": {},
   "outputs": [
    {
     "data": {
      "image/png": "[encoded data removed]",
      "text/plain": [
       "<Figure size 240x230 with 1 Axes>"
      ]
     },
     "metadata": {},
     "output_type": "display_data"
    }
   ],
   "source": [
    "# 지정한 색상 순서로 마커 스타일과 함께 그룹 시각화\n",
    "g_colors = ['lightcoral','lightseagreen',]\n",
    "group_order = [\"Control\", \"Chickpea\"]\n",
    "marker_dict = {\n",
    "    \"Control\": \"o\",\n",
    "    \"Chickpea\": \"s\",\n",
    "}\n",
    "\n",
    "plt.figure(figsize=(2.4, 2.3))\n",
    "for group, color in zip(group_order, g_colors):\n",
    "    subset = df[df[\"class\"] == group]\n",
    "    sns.scatterplot(\n",
    "        data=subset,\n",
    "        x=\"BA\",\n",
    "        y=\"f_Lachnospiraceae\",\n",
    "        label=group,\n",
    "        color=color,\n",
    "        marker=marker_dict[group],\n",
    "        s=20,\n",
    "        edgecolor=\"black\"\n",
    "    )\n",
    "\n",
    "sns.regplot(\n",
    "data=df,\n",
    "x=\"BA\",\n",
    "y=\"f_Lachnospiraceae\",\n",
    "scatter=False,\n",
    "color=\"black\",\n",
    "line_kws={\"linewidth\": 0.5, \"label\": \"Overall trend\", \"linestyle\": \"--\"}\n",
    ")\n",
    "\n",
    "# plt.title(\"Bifidobacterium vs Acetic acid by Group\")\n",
    "plt.xlabel(\"Relative peak intensity\\nButyric acid\", fontsize=9)\n",
    "plt.ylabel(\"f_Lachnospiraceae\\nRelative abundance\",  fontsize=9)\n",
    "plt.xticks(fontsize=9)\n",
    "plt.yticks(fontsize=9)\n",
    "\n",
    "plt.legend(title=\"Group\", fontsize=9).remove()\n",
    "plt.grid(True, linestyle=\"--\", linewidth=0.5, alpha=0.7)  # grid 추가\n",
    "\n",
    "\n",
    "plt.tight_layout()\n",
    "plt.savefig('corrleation_L_B.png', dpi=600)\n",
    "\n",
    "plt.show()\n"
   ]
  },
  {
   "cell_type": "code",
   "execution_count": null,
   "id": "21bc406c",
   "metadata": {},
   "outputs": [],
   "source": []
  },
  {
   "cell_type": "code",
   "execution_count": null,
   "id": "e410aa52",
   "metadata": {},
   "outputs": [],
   "source": []
  }
 ],
 "metadata": {
  "kernelspec": {
   "display_name": "JINWOO",
   "language": "python",
   "name": "python3"
  },
  "language_info": {
   "codemirror_mode": {
    "name": "ipython",
    "version": 3
   },
   "file_extension": ".py",
   "mimetype": "text/x-python",
   "name": "python",
   "nbconvert_exporter": "python",
   "pygments_lexer": "ipython3",
   "version": "3.12.3"
  }
 },
 "nbformat": 4,
 "nbformat_minor": 5
}
