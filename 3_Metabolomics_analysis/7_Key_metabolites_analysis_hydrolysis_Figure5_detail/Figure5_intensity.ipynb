{
 "cells": [
  {
   "cell_type": "code",
   "execution_count": 2,
   "metadata": {},
   "outputs": [],
   "source": [
    "import pandas as pd\n",
    "import matplotlib.pyplot as plt\n",
    "import seaborn as sns\n",
    "\n",
    "\n",
    "plt.rcParams['font.family'] = 'Arial'\n",
    "\n",
    "import warnings\n",
    "warnings.filterwarnings(\"ignore\")"
   ]
  },
  {
   "cell_type": "code",
   "execution_count": 3,
   "metadata": {},
   "outputs": [],
   "source": [
    "df_id = pd.read_excel('./data/Key_metabolites.xlsx', sheet_name='id')\n",
    "df_data = pd.read_excel('./data/Key_metabolites.xlsx', sheet_name='dataset')"
   ]
  },
  {
   "cell_type": "code",
   "execution_count": 4,
   "metadata": {},
   "outputs": [
    {
     "data": {
      "text/plain": [
       "{'0.957_215.03285': 'Bergapten',\n",
       " '0.958_138.05499': 'Trigonelline',\n",
       " '11.128_283.06134': 'Glycitein',\n",
       " '14.279_441.37311': 'Soyasapogenol C',\n",
       " '1.206_124.03927': 'Niacin (Vitamin B3)',\n",
       " '1.176_130.08625': 'Pipecolic acid',\n",
       " '0.955_176.10289': 'Citrulline',\n",
       " '15.805_297.24358': 'Hydroxyoctadecenoic acid',\n",
       " '12.839_339.25073': 'Hydroperoxyeicosatrienoate',\n",
       " '11.77_331.24905': 'Trihydroxystearic acid',\n",
       " '13.355_315.25417': 'Dihydroxyoctadecanoic acid',\n",
       " '14.913_295.22793': 'Hydroxyoctadecadienoic acid',\n",
       " '1.447_175.02483': 'Glucuronolactone',\n",
       " '1.026_133.01428': 'Malic acid',\n",
       " '1.114_134.04726': 'Adenine (Pos)',\n",
       " '1.131_136.0618': 'Adenine (Neg)',\n",
       " '0.996_246.18116': 'Valine lysine dipeptide',\n",
       " '0.954_149.04557': 'Arabinose'}"
      ]
     },
     "execution_count": 4,
     "metadata": {},
     "output_type": "execute_result"
    }
   ],
   "source": [
    "# Create a dictionary mapping \"Features (RT_mz)\" to \"Identified compound\"\n",
    "feature_to_compound = dict(zip(df_id['Features (RT_mz)'], df_id['Identified compound']))\n",
    "# Show a small sample of the dictionary\n",
    "feature_to_compound\n"
   ]
  },
  {
   "cell_type": "code",
   "execution_count": 5,
   "metadata": {},
   "outputs": [],
   "source": [
    "orders = ['Control', 'Chickpea']\n",
    "g_colors = [ 'lightcoral', 'lightseagreen']"
   ]
  },
  {
   "cell_type": "code",
   "execution_count": 6,
   "metadata": {},
   "outputs": [
    {
     "data": {
      "text/plain": [
       "['0.996_246.18116', '0.954_149.04557']"
      ]
     },
     "execution_count": 6,
     "metadata": {},
     "output_type": "execute_result"
    }
   ],
   "source": [
    "df_hydro = df_id[df_id['Putative source'] == 'Hydrolysis product']['Features (RT_mz)'].to_list()\n",
    "df_hydro"
   ]
  },
  {
   "cell_type": "code",
   "execution_count": 7,
   "metadata": {},
   "outputs": [],
   "source": [
    "def get_group_figure_rev3(\n",
    "        dataset: pd.DataFrame,\n",
    "        dict_id: dict,\n",
    "        order: list,\n",
    "        feature_order: list,\n",
    "        palette='Pastel1', figsize=(9, 10), top_alpha=1.2, is_save_file=False, dpi=600, x_label_rotation='45', ha='ha',\n",
    "        save_name='a',\n",
    "        yticks_range = False,\n",
    "        relative_to_control=False,\n",
    "        ylim_range = False\n",
    "    ):\n",
    "\n",
    "    plt.figure(figsize=figsize)\n",
    "\n",
    "    # relative_to_control 옵션이 켜져 있으면 Control 그룹의 평균으로 나눔\n",
    "    if relative_to_control:\n",
    "        dataset = dataset.copy()\n",
    "        for feat in feature_order:\n",
    "            control_mean = dataset.loc[dataset['Label'] == 'Control', feat].mean()\n",
    "            dataset[feat] = dataset[feat] / control_mean\n",
    "\n",
    "\n",
    "    for i, feat in enumerate(feature_order):\n",
    "        plt.subplot(5, 5, i + 1)\n",
    "  \n",
    "        sns.stripplot(data=dataset, x='Label', y=feat, order=order, jitter=True, palette=palette, edgecolor=\"gray\", linewidth=1)      \n",
    "        sns.boxplot(data=dataset, x='Label', y=feat, order=order, palette=palette, showfliers=False)           \n",
    "\n",
    "        plt.xlabel('')\n",
    "        plt.ylabel('')\n",
    "        plt.yticks(fontsize=9)\n",
    "        plt.title(f'{dict_id[feat]}\\n{feat}', fontdict={'fontsize': 9})\n",
    "        plt.xticks(fontsize=9)\n",
    "        bottom, top = plt.ylim()\n",
    "        plt.ylim(bottom * 0.9, top * top_alpha)\n",
    "\n",
    "        if yticks_range:\n",
    "            plt.yticks(yticks_range, fontsize=9)\n",
    "\n",
    "        if ylim_range:\n",
    "            plt.ylim(ylim_range)\n",
    "\n",
    "\n",
    "    plt.subplots_adjust(left=0.1, bottom=0.1, right=0.9, top=0.9, wspace=0.4, hspace=1.1)\n",
    "\n",
    "    if is_save_file:\n",
    "        plt.savefig(f'figure_{save_name}.png', dpi=dpi)\n",
    "        print('figure.png file is saved')\n",
    "\n",
    "    plt.show()\n"
   ]
  },
  {
   "cell_type": "code",
   "execution_count": 8,
   "metadata": {},
   "outputs": [],
   "source": [
    "def get_group_figure_rev4(\n",
    "        dataset: pd.DataFrame,\n",
    "        dict_id: dict,\n",
    "        order: list,\n",
    "        feature_order: list,\n",
    "        palette='Pastel1', figsize=(2.1, 2.1), top_alpha=1.2, is_save_file=False, dpi=600, x_label_rotation='45', ha='ha',\n",
    "        save_name='a',\n",
    "        yticks_range = False,\n",
    "        relative_to_control=False,\n",
    "        ylim_range = False\n",
    "    ):\n",
    "\n",
    "    plt.figure(figsize=figsize)\n",
    "\n",
    "    # relative_to_control 옵션이 켜져 있으면 Control 그룹의 평균으로 나눔\n",
    "    if relative_to_control:\n",
    "        dataset = dataset.copy()\n",
    "        for feat in feature_order:\n",
    "            control_mean = dataset.loc[dataset['Label'] == 'Control', feat].mean()\n",
    "            dataset[feat] = dataset[feat] / control_mean\n",
    "\n",
    "\n",
    "    for i, feat in enumerate(feature_order):\n",
    "        plt.subplot(1, 1, i + 1)\n",
    "  \n",
    "        sns.stripplot(data=dataset, x='Label', y=feat, order=order, jitter=True, palette=palette, edgecolor=\"gray\", linewidth=1)      \n",
    "        sns.boxplot(data=dataset, x='Label', y=feat, order=order, palette=palette, showfliers=False)           \n",
    "\n",
    "        plt.xlabel('')\n",
    "        plt.ylabel('')\n",
    "        plt.yticks(fontsize=8.5)\n",
    "        plt.title(f'{dict_id[feat]}\\n{feat}', fontdict={'fontsize': 8})\n",
    "        plt.xticks(fontsize=8)\n",
    "        bottom, top = plt.ylim()\n",
    "        plt.ylim(bottom * 0.9, top * top_alpha)\n",
    "\n",
    "        if yticks_range:\n",
    "            plt.yticks(yticks_range, fontsize=8)\n",
    "\n",
    "        if ylim_range:\n",
    "            plt.ylim(ylim_range)\n",
    "\n",
    "\n",
    "    plt.subplots_adjust(left=0.1, bottom=0.1, right=0.9, top=0.9, wspace=0.4, hspace=1.1)\n",
    "\n",
    "    plt.tight_layout()\n",
    "    if is_save_file:\n",
    "        plt.savefig(f'figure_{save_name}.png', dpi=dpi)\n",
    "        print('figure.png file is saved')\n",
    "\n",
    "    plt.show()\n"
   ]
  },
  {
   "cell_type": "code",
   "execution_count": 9,
   "metadata": {},
   "outputs": [
    {
     "data": {
      "text/plain": [
       "['0.996_246.18116', '0.954_149.04557']"
      ]
     },
     "execution_count": 9,
     "metadata": {},
     "output_type": "execute_result"
    }
   ],
   "source": [
    "df_hydro = df_id[df_id['Putative source'] == 'Hydrolysis product']['Features (RT_mz)'].to_list()\n",
    "df_hydro"
   ]
  },
  {
   "cell_type": "code",
   "execution_count": 10,
   "metadata": {},
   "outputs": [
    {
     "data": {
      "image/png": "[encoded data removed]",
      "text/plain": [
       "<Figure size 1000x1300 with 2 Axes>"
      ]
     },
     "metadata": {},
     "output_type": "display_data"
    }
   ],
   "source": [
    "get_group_figure_rev3(df_data, feature_to_compound, order=['Control', 'Chickpea'], palette=g_colors, top_alpha=1.2, \n",
    "                         is_save_file=False, save_name='hydrolysis_product', ha='right', figsize=(10, 13), feature_order=df_hydro,  relative_to_control=True)"
   ]
  },
  {
   "cell_type": "code",
   "execution_count": 11,
   "metadata": {},
   "outputs": [
    {
     "data": {
      "image/png": "[encoded data removed]",
      "text/plain": [
       "<Figure size 140x160 with 1 Axes>"
      ]
     },
     "metadata": {},
     "output_type": "display_data"
    }
   ],
   "source": [
    "get_group_figure_rev4(df_data, feature_to_compound, order=['Control', 'Chickpea'], palette=g_colors, top_alpha=1.2,  ylim_range=[-2, 12], yticks_range=[0, 5, 10],\n",
    "                         is_save_file=False, save_name='hydrolysis_product_1_val', ha='right', figsize=(1.4, 1.6), feature_order=[df_hydro[0]],  relative_to_control=True)"
   ]
  },
  {
   "cell_type": "code",
   "execution_count": 12,
   "metadata": {},
   "outputs": [
    {
     "data": {
      "image/png": "[encoded data removed]",
      "text/plain": [
       "<Figure size 135x160 with 1 Axes>"
      ]
     },
     "metadata": {},
     "output_type": "display_data"
    }
   ],
   "source": [
    "get_group_figure_rev4(df_data, feature_to_compound, order=['Control', 'Chickpea'], palette=g_colors, top_alpha=1.2,  ylim_range=[-1, 9], yticks_range=[0, 3, 6, 9],\n",
    "                         is_save_file=False, save_name='hydrolysis_product_2_ara', ha='right', figsize=(1.35, 1.6), feature_order=[df_hydro[1]],  relative_to_control=True)"
   ]
  },
  {
   "cell_type": "code",
   "execution_count": 13,
   "metadata": {},
   "outputs": [],
   "source": [
    "feature_to_compound['0.919_181.07181'] = 'Galactose'"
   ]
  },
  {
   "cell_type": "code",
   "execution_count": 14,
   "metadata": {},
   "outputs": [],
   "source": [
    "gal = ['0.919_181.07181']"
   ]
  },
  {
   "cell_type": "code",
   "execution_count": 15,
   "metadata": {},
   "outputs": [
    {
     "data": {
      "image/png": "[encoded data removed]",
      "text/plain": [
       "<Figure size 135x160 with 1 Axes>"
      ]
     },
     "metadata": {},
     "output_type": "display_data"
    }
   ],
   "source": [
    "get_group_figure_rev4(df_data, feature_to_compound, order=['Control', 'Chickpea'], palette=g_colors, top_alpha=1.2,  ylim_range=[-1, 9], yticks_range=[0, 3, 6, 9],\n",
    "                         is_save_file=False, save_name='hydrolysis_product_3_gal', ha='right', figsize=(1.35, 1.6), feature_order=gal,  relative_to_control=True)"
   ]
  },
  {
   "cell_type": "code",
   "execution_count": null,
   "metadata": {},
   "outputs": [],
   "source": []
  },
  {
   "cell_type": "code",
   "execution_count": null,
   "metadata": {},
   "outputs": [],
   "source": []
  }
 ],
 "metadata": {
  "kernelspec": {
   "display_name": "JINWOO",
   "language": "python",
   "name": "python3"
  },
  "language_info": {
   "codemirror_mode": {
    "name": "ipython",
    "version": 3
   },
   "file_extension": ".py",
   "mimetype": "text/x-python",
   "name": "python",
   "nbconvert_exporter": "python",
   "pygments_lexer": "ipython3",
   "version": "3.12.3"
  },
  "orig_nbformat": 4
 },
 "nbformat": 4,
 "nbformat_minor": 2
}
