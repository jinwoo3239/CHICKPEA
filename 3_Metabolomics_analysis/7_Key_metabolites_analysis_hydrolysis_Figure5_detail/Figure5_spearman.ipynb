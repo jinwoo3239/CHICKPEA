{
 "cells": [
  {
   "cell_type": "code",
   "execution_count": 1,
   "id": "bc97a508",
   "metadata": {},
   "outputs": [],
   "source": [
    "import pandas as pd\n",
    "from scipy.stats import spearmanr\n",
    "\n",
    "import matplotlib.pyplot as plt\n",
    "import seaborn as sns"
   ]
  },
  {
   "cell_type": "code",
   "execution_count": 2,
   "id": "c8dd1073",
   "metadata": {},
   "outputs": [],
   "source": [
    "genus_list = [\n",
    "    \"Bifidobacterium\",\n",
    "    \"Blautia\",\n",
    "    \"f_Lachnospiraceae;g_UA\",\n",
    "    \"Monoglobus\",\n",
    "    \"Hungatella\",\n",
    "    \"Flavonifractor\",\n",
    "    \"Lachnoclostridium\",\n",
    "    \"Parabacteroides\",\n",
    "]"
   ]
  },
  {
   "cell_type": "code",
   "execution_count": 3,
   "id": "0cddc752",
   "metadata": {},
   "outputs": [],
   "source": [
    "x_features = genus_list\n",
    "y_features = [\"Valine lysine dipeptide\", \"Arabinose\", \"Galactose\"]"
   ]
  },
  {
   "cell_type": "code",
   "execution_count": 4,
   "id": "227509be",
   "metadata": {},
   "outputs": [],
   "source": [
    "df_key = pd.read_excel('./data/Key_metabolites.xlsx', sheet_name='key_dataset')\n",
    "\n",
    "corr_matrix = pd.DataFrame(index=x_features, columns=y_features)\n",
    "pval_matrix = pd.DataFrame(index=x_features, columns=y_features)\n"
   ]
  },
  {
   "cell_type": "code",
   "execution_count": 5,
   "id": "3b5293fc",
   "metadata": {},
   "outputs": [],
   "source": [
    "for x in x_features:\n",
    "    for y in y_features:\n",
    "        corr, pval = spearmanr(df_key[x], df_key[y])\n",
    "        corr_matrix.loc[x, y] = corr\n",
    "        pval_matrix.loc[x, y] = pval\n",
    "\n",
    "# Convert to float\n",
    "corr_matrix = corr_matrix.astype(float)\n",
    "pval_matrix = pval_matrix.astype(float)\n"
   ]
  },
  {
   "cell_type": "code",
   "execution_count": 6,
   "id": "e4089d9a",
   "metadata": {},
   "outputs": [
    {
     "data": {
      "text/html": [
       "<div>\n",
       "<style scoped>\n",
       "    .dataframe tbody tr th:only-of-type {\n",
       "        vertical-align: middle;\n",
       "    }\n",
       "\n",
       "    .dataframe tbody tr th {\n",
       "        vertical-align: top;\n",
       "    }\n",
       "\n",
       "    .dataframe thead th {\n",
       "        text-align: right;\n",
       "    }\n",
       "</style>\n",
       "<table border=\"1\" class=\"dataframe\">\n",
       "  <thead>\n",
       "    <tr style=\"text-align: right;\">\n",
       "      <th></th>\n",
       "      <th>Valine lysine dipeptide</th>\n",
       "      <th>Arabinose</th>\n",
       "      <th>Galactose</th>\n",
       "    </tr>\n",
       "  </thead>\n",
       "  <tbody>\n",
       "    <tr>\n",
       "      <th>Bifidobacterium</th>\n",
       "      <td>0.308948</td>\n",
       "      <td>0.199817</td>\n",
       "      <td>0.006917</td>\n",
       "    </tr>\n",
       "    <tr>\n",
       "      <th>Blautia</th>\n",
       "      <td>0.433572</td>\n",
       "      <td>0.298081</td>\n",
       "      <td>0.241626</td>\n",
       "    </tr>\n",
       "    <tr>\n",
       "      <th>f_Lachnospiraceae;g_UA</th>\n",
       "      <td>0.402407</td>\n",
       "      <td>0.361790</td>\n",
       "      <td>0.237683</td>\n",
       "    </tr>\n",
       "    <tr>\n",
       "      <th>Monoglobus</th>\n",
       "      <td>0.282733</td>\n",
       "      <td>0.547636</td>\n",
       "      <td>0.556975</td>\n",
       "    </tr>\n",
       "    <tr>\n",
       "      <th>Hungatella</th>\n",
       "      <td>-0.271760</td>\n",
       "      <td>-0.136344</td>\n",
       "      <td>-0.153967</td>\n",
       "    </tr>\n",
       "    <tr>\n",
       "      <th>Flavonifractor</th>\n",
       "      <td>-0.559534</td>\n",
       "      <td>-0.299480</td>\n",
       "      <td>-0.150877</td>\n",
       "    </tr>\n",
       "    <tr>\n",
       "      <th>Lachnoclostridium</th>\n",
       "      <td>-0.245462</td>\n",
       "      <td>-0.419709</td>\n",
       "      <td>-0.348495</td>\n",
       "    </tr>\n",
       "    <tr>\n",
       "      <th>Parabacteroides</th>\n",
       "      <td>-0.229496</td>\n",
       "      <td>-0.366441</td>\n",
       "      <td>-0.240783</td>\n",
       "    </tr>\n",
       "  </tbody>\n",
       "</table>\n",
       "</div>"
      ],
      "text/plain": [
       "                        Valine lysine dipeptide  Arabinose  Galactose\n",
       "Bifidobacterium                        0.308948   0.199817   0.006917\n",
       "Blautia                                0.433572   0.298081   0.241626\n",
       "f_Lachnospiraceae;g_UA                 0.402407   0.361790   0.237683\n",
       "Monoglobus                             0.282733   0.547636   0.556975\n",
       "Hungatella                            -0.271760  -0.136344  -0.153967\n",
       "Flavonifractor                        -0.559534  -0.299480  -0.150877\n",
       "Lachnoclostridium                     -0.245462  -0.419709  -0.348495\n",
       "Parabacteroides                       -0.229496  -0.366441  -0.240783"
      ]
     },
     "execution_count": 6,
     "metadata": {},
     "output_type": "execute_result"
    }
   ],
   "source": [
    "corr_matrix"
   ]
  },
  {
   "cell_type": "code",
   "execution_count": 7,
   "id": "61613b56",
   "metadata": {},
   "outputs": [
    {
     "data": {
      "text/html": [
       "<div>\n",
       "<style scoped>\n",
       "    .dataframe tbody tr th:only-of-type {\n",
       "        vertical-align: middle;\n",
       "    }\n",
       "\n",
       "    .dataframe tbody tr th {\n",
       "        vertical-align: top;\n",
       "    }\n",
       "\n",
       "    .dataframe thead th {\n",
       "        text-align: right;\n",
       "    }\n",
       "</style>\n",
       "<table border=\"1\" class=\"dataframe\">\n",
       "  <thead>\n",
       "    <tr style=\"text-align: right;\">\n",
       "      <th></th>\n",
       "      <th>Valine lysine dipeptide</th>\n",
       "      <th>Arabinose</th>\n",
       "      <th>Galactose</th>\n",
       "    </tr>\n",
       "  </thead>\n",
       "  <tbody>\n",
       "    <tr>\n",
       "      <th>Bifidobacterium</th>\n",
       "      <td>0.185040</td>\n",
       "      <td>0.398313</td>\n",
       "      <td>0.976912</td>\n",
       "    </tr>\n",
       "    <tr>\n",
       "      <th>Blautia</th>\n",
       "      <td>0.056156</td>\n",
       "      <td>0.201786</td>\n",
       "      <td>0.304743</td>\n",
       "    </tr>\n",
       "    <tr>\n",
       "      <th>f_Lachnospiraceae;g_UA</th>\n",
       "      <td>0.078580</td>\n",
       "      <td>0.117013</td>\n",
       "      <td>0.312943</td>\n",
       "    </tr>\n",
       "    <tr>\n",
       "      <th>Monoglobus</th>\n",
       "      <td>0.227109</td>\n",
       "      <td>0.012439</td>\n",
       "      <td>0.010741</td>\n",
       "    </tr>\n",
       "    <tr>\n",
       "      <th>Hungatella</th>\n",
       "      <td>0.246427</td>\n",
       "      <td>0.566526</td>\n",
       "      <td>0.516916</td>\n",
       "    </tr>\n",
       "    <tr>\n",
       "      <th>Flavonifractor</th>\n",
       "      <td>0.010311</td>\n",
       "      <td>0.199576</td>\n",
       "      <td>0.525462</td>\n",
       "    </tr>\n",
       "    <tr>\n",
       "      <th>Lachnoclostridium</th>\n",
       "      <td>0.296892</td>\n",
       "      <td>0.065435</td>\n",
       "      <td>0.132110</td>\n",
       "    </tr>\n",
       "    <tr>\n",
       "      <th>Parabacteroides</th>\n",
       "      <td>0.330391</td>\n",
       "      <td>0.112036</td>\n",
       "      <td>0.306486</td>\n",
       "    </tr>\n",
       "  </tbody>\n",
       "</table>\n",
       "</div>"
      ],
      "text/plain": [
       "                        Valine lysine dipeptide  Arabinose  Galactose\n",
       "Bifidobacterium                        0.185040   0.398313   0.976912\n",
       "Blautia                                0.056156   0.201786   0.304743\n",
       "f_Lachnospiraceae;g_UA                 0.078580   0.117013   0.312943\n",
       "Monoglobus                             0.227109   0.012439   0.010741\n",
       "Hungatella                             0.246427   0.566526   0.516916\n",
       "Flavonifractor                         0.010311   0.199576   0.525462\n",
       "Lachnoclostridium                      0.296892   0.065435   0.132110\n",
       "Parabacteroides                        0.330391   0.112036   0.306486"
      ]
     },
     "execution_count": 7,
     "metadata": {},
     "output_type": "execute_result"
    }
   ],
   "source": [
    "pval_matrix"
   ]
  },
  {
   "cell_type": "code",
   "execution_count": 8,
   "id": "a3b13bb1",
   "metadata": {},
   "outputs": [],
   "source": [
    "significant_mask = pval_matrix < 0.05\n",
    "significant_corrs = corr_matrix.where(significant_mask).dropna(how='all').dropna(axis=1, how='all')"
   ]
  },
  {
   "cell_type": "code",
   "execution_count": 9,
   "id": "cf76f040",
   "metadata": {},
   "outputs": [
    {
     "data": {
      "image/png": "[encoded data removed]",
      "text/plain": [
       "<Figure size 280x140 with 2 Axes>"
      ]
     },
     "metadata": {},
     "output_type": "display_data"
    }
   ],
   "source": [
    "plt.figure(figsize=(2.8, 1.4))\n",
    "\n",
    "# Draw the heatmap for significant correlations\n",
    "sns.heatmap(significant_corrs, annot=True, cmap='vlag', center=0, fmt=\".2f\",\n",
    "             linewidths=0.5, annot_kws = {'size' : 9}, vmax=0.8, vmin=-0.8)\n",
    "\n",
    "# plt.title(\"Significant Spearman Correlation Heatmap (FDR < 0.05)\")\n",
    "plt.xticks([0.5, 1.5, 2.5], ['Val-Lys', 'Ara', 'Gal'], rotation=90, ha='center', fontsize=9)\n",
    "plt.yticks(rotation=0, fontsize=9, fontstyle='italic')\n",
    "plt.tight_layout()\n",
    "# plt.savefig('spearman_hydrolysis.png', dpi=600)\n",
    "plt.show()"
   ]
  },
  {
   "cell_type": "code",
   "execution_count": 23,
   "id": "fb506665",
   "metadata": {},
   "outputs": [],
   "source": [
    "# The SCFA intensities were normalized by setting the mean value of the control group to 1, allowing for relative comparison across groups.\n",
    "\n",
    "df = pd.read_excel('./data/Key_metabolites.xlsx', sheet_name='key_dataset_rel')\n"
   ]
  },
  {
   "cell_type": "code",
   "execution_count": 30,
   "id": "3054f262",
   "metadata": {},
   "outputs": [
    {
     "data": {
      "image/png": "[encoded data removed]",
      "text/plain": [
       "<Figure size 240x230 with 1 Axes>"
      ]
     },
     "metadata": {},
     "output_type": "display_data"
    }
   ],
   "source": [
    "# 지정한 색상 순서로 마커 스타일과 함께 그룹 시각화\n",
    "g_colors = ['lightcoral','lightseagreen',]\n",
    "group_order = [\"Control\", \"Chickpea\"]\n",
    "marker_dict = {\n",
    "    \"Control\": \"o\",\n",
    "    \"Chickpea\": \"s\",\n",
    "}\n",
    "\n",
    "plt.figure(figsize=(2.4, 2.3))\n",
    "for group, color in zip(group_order, g_colors):\n",
    "    subset = df[df[\"class\"] == group]\n",
    "    sns.scatterplot(\n",
    "        data=subset,\n",
    "        x=\"Valine lysine dipeptide\",\n",
    "        y=\"Flavonifractor\",\n",
    "        label=group,\n",
    "        color=color,\n",
    "        marker=marker_dict[group],\n",
    "        s=20,\n",
    "        edgecolor=\"black\"\n",
    "    )\n",
    "\n",
    "sns.regplot(\n",
    "data=df,\n",
    "x=\"Valine lysine dipeptide\",\n",
    "y=\"Flavonifractor\",\n",
    "scatter=False,\n",
    "color=\"black\",\n",
    "line_kws={\"linewidth\": 0.5, \"label\": \"Overall trend\", \"linestyle\": \"--\"}\n",
    ")\n",
    "\n",
    "# plt.title(\"Bifidobacterium vs Acetic acid by Group\")\n",
    "plt.xlabel(\"Relative peak intensity\\nValine lysine dipeptide\", fontsize=9)\n",
    "plt.ylabel(\"Flavonifractor\\nRelative abundance\",  fontsize=9)\n",
    "plt.xticks(fontsize=9)\n",
    "plt.yticks(fontsize=9)\n",
    "\n",
    "plt.legend(title=\"Group\", fontsize=9).remove()\n",
    "plt.grid(True, linestyle=\"--\", linewidth=0.5, alpha=0.7)  # grid 추가\n",
    "\n",
    "\n",
    "plt.tight_layout()\n",
    "plt.savefig('corrleation_F_P.png', dpi=600)\n",
    "\n",
    "plt.show()\n"
   ]
  },
  {
   "cell_type": "code",
   "execution_count": 31,
   "id": "803e1319",
   "metadata": {},
   "outputs": [
    {
     "data": {
      "image/png": "[encoded data removed]",
      "text/plain": [
       "<Figure size 240x230 with 1 Axes>"
      ]
     },
     "metadata": {},
     "output_type": "display_data"
    }
   ],
   "source": [
    "# 지정한 색상 순서로 마커 스타일과 함께 그룹 시각화\n",
    "g_colors = ['lightcoral','lightseagreen',]\n",
    "group_order = [\"Control\", \"Chickpea\"]\n",
    "marker_dict = {\n",
    "    \"Control\": \"o\",\n",
    "    \"Chickpea\": \"s\",\n",
    "}\n",
    "\n",
    "plt.figure(figsize=(2.4, 2.3))\n",
    "for group, color in zip(group_order, g_colors):\n",
    "    subset = df[df[\"class\"] == group]\n",
    "    sns.scatterplot(\n",
    "        data=subset,\n",
    "        x=\"Arabinose\",\n",
    "        y=\"Monoglobus\",\n",
    "        label=group,\n",
    "        color=color,\n",
    "        marker=marker_dict[group],\n",
    "        s=20,\n",
    "        edgecolor=\"black\"\n",
    "    )\n",
    "\n",
    "sns.regplot(\n",
    "data=df,\n",
    "x=\"Arabinose\",\n",
    "y=\"Monoglobus\",\n",
    "scatter=False,\n",
    "color=\"black\",\n",
    "line_kws={\"linewidth\": 0.5, \"label\": \"Overall trend\", \"linestyle\": \"--\"}\n",
    ")\n",
    "\n",
    "# plt.title(\"Bifidobacterium vs Acetic acid by Group\")\n",
    "plt.xlabel(\"Relative peak intensity\\nArabinose\", fontsize=9)\n",
    "plt.ylabel(\"Monoglobus\\nRelative abundance\",  fontsize=9)\n",
    "plt.xticks(fontsize=9)\n",
    "plt.yticks(fontsize=9)\n",
    "\n",
    "plt.legend(title=\"Group\", fontsize=9).remove()\n",
    "plt.grid(True, linestyle=\"--\", linewidth=0.5, alpha=0.7)  # grid 추가\n",
    "\n",
    "\n",
    "plt.tight_layout()\n",
    "plt.savefig('corrleation_M_A.png', dpi=600)\n",
    "\n",
    "plt.show()\n"
   ]
  },
  {
   "cell_type": "code",
   "execution_count": 32,
   "id": "f0be63fa",
   "metadata": {},
   "outputs": [
    {
     "data": {
      "image/png": "[encoded data removed]",
      "text/plain": [
       "<Figure size 240x230 with 1 Axes>"
      ]
     },
     "metadata": {},
     "output_type": "display_data"
    }
   ],
   "source": [
    "# 지정한 색상 순서로 마커 스타일과 함께 그룹 시각화\n",
    "g_colors = ['lightcoral','lightseagreen',]\n",
    "group_order = [\"Control\", \"Chickpea\"]\n",
    "marker_dict = {\n",
    "    \"Control\": \"o\",\n",
    "    \"Chickpea\": \"s\",\n",
    "}\n",
    "\n",
    "plt.figure(figsize=(2.4, 2.3))\n",
    "for group, color in zip(group_order, g_colors):\n",
    "    subset = df[df[\"class\"] == group]\n",
    "    sns.scatterplot(\n",
    "        data=subset,\n",
    "        x=\"Galactose\",\n",
    "        y=\"Monoglobus\",\n",
    "        label=group,\n",
    "        color=color,\n",
    "        marker=marker_dict[group],\n",
    "        s=20,\n",
    "        edgecolor=\"black\"\n",
    "    )\n",
    "\n",
    "sns.regplot(\n",
    "data=df,\n",
    "x=\"Galactose\",\n",
    "y=\"Monoglobus\",\n",
    "scatter=False,\n",
    "color=\"black\",\n",
    "line_kws={\"linewidth\": 0.5, \"label\": \"Overall trend\", \"linestyle\": \"--\"}\n",
    ")\n",
    "\n",
    "# plt.title(\"Bifidobacterium vs Acetic acid by Group\")\n",
    "plt.xlabel(\"Relative peak intensity\\nGalactose\", fontsize=9)\n",
    "plt.ylabel(\"Monoglobus\\nRelative abundance\",  fontsize=9)\n",
    "plt.xticks(fontsize=9)\n",
    "plt.xscale('log') \n",
    "plt.yticks(fontsize=9)\n",
    "\n",
    "plt.legend(title=\"Group\", fontsize=9).remove()\n",
    "plt.grid(True, linestyle=\"--\", linewidth=0.5, alpha=0.7)  # grid 추가\n",
    "# plt.xlim(0, 6)\n",
    "\n",
    "plt.tight_layout()\n",
    "plt.savefig('corrleation_M_G.png', dpi=600)\n",
    "\n",
    "plt.show()\n"
   ]
  },
  {
   "cell_type": "code",
   "execution_count": null,
   "id": "52049cbd",
   "metadata": {},
   "outputs": [],
   "source": []
  }
 ],
 "metadata": {
  "kernelspec": {
   "display_name": "JINWOO",
   "language": "python",
   "name": "python3"
  },
  "language_info": {
   "codemirror_mode": {
    "name": "ipython",
    "version": 3
   },
   "file_extension": ".py",
   "mimetype": "text/x-python",
   "name": "python",
   "nbconvert_exporter": "python",
   "pygments_lexer": "ipython3",
   "version": "3.12.3"
  }
 },
 "nbformat": 4,
 "nbformat_minor": 5
}
